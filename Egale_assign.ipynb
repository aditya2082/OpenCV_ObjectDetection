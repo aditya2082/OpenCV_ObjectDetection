{
 "cells": [
  {
   "cell_type": "code",
   "execution_count": null,
   "id": "e77cb996",
   "metadata": {},
   "outputs": [],
   "source": [
    "import cv2 as cv"
   ]
  },
  {
   "cell_type": "code",
   "execution_count": null,
   "id": "5ddb9aba",
   "metadata": {},
   "outputs": [],
   "source": [
    "import matplotlib.pyplot as plt"
   ]
  },
  {
   "cell_type": "code",
   "execution_count": null,
   "id": "785946a5",
   "metadata": {},
   "outputs": [],
   "source": [
    "config_file = 'ssd_mobilenet_v3_large_coco_2020_01_14.pbtxt'\n",
    "frozen_model = 'frozen_inference_graph.pb'"
   ]
  },
  {
   "cell_type": "code",
   "execution_count": null,
   "id": "3e8c0074",
   "metadata": {},
   "outputs": [],
   "source": [
    "model = cv.dnn_DetectionModel(frozen_model,config_file)"
   ]
  },
  {
   "cell_type": "code",
   "execution_count": null,
   "id": "54494af6",
   "metadata": {},
   "outputs": [],
   "source": [
    "classLabels = [] ##emptylist of Python\n",
    "file_name = 'Labels.txt'\n",
    "with open(file_name,'rt') as fpt:\n",
    "    classLabels = fpt.read().rstrip('\\n').split('\\n')\n",
    "    #clasification.append(fpt.read())"
   ]
  },
  {
   "cell_type": "code",
   "execution_count": null,
   "id": "6f1d9cb8",
   "metadata": {},
   "outputs": [],
   "source": [
    "print(len(classLabels))"
   ]
  },
  {
   "cell_type": "code",
   "execution_count": null,
   "id": "1744d960",
   "metadata": {},
   "outputs": [],
   "source": [
    "model.setInputSize(320,320)\n",
    "model.setInputScale(1.0/127.5) ## 255/2 = 127.5\n",
    "model.setInputMean((127.5,127.5,127.5)) ## mobilenet => [-1,1]\n",
    "model.setInputSwapRB(True)"
   ]
  },
  {
   "cell_type": "markdown",
   "id": "d9d294a9",
   "metadata": {},
   "source": [
    "## read an image"
   ]
  },
  {
   "cell_type": "code",
   "execution_count": null,
   "id": "228bdb1c",
   "metadata": {},
   "outputs": [],
   "source": [
    "img = cv.imread('images/image_000000001.jpg')"
   ]
  },
  {
   "cell_type": "code",
   "execution_count": null,
   "id": "5d809cad",
   "metadata": {},
   "outputs": [],
   "source": [
    "plt.imshow(img) ##bgr"
   ]
  },
  {
   "cell_type": "code",
   "execution_count": null,
   "id": "5dda3e74",
   "metadata": {},
   "outputs": [],
   "source": [
    "plt.imshow(cv.cvtColor(img,cv.COLOR_BGR2RBG))"
   ]
  },
  {
   "cell_type": "code",
   "execution_count": null,
   "id": "03267d68",
   "metadata": {},
   "outputs": [],
   "source": [
    "ClassIndex, confidence, bbox = model.detect(img.confThreshold=0.5)"
   ]
  },
  {
   "cell_type": "code",
   "execution_count": null,
   "id": "068ed3ad",
   "metadata": {},
   "outputs": [],
   "source": [
    "print(ClassIndex)"
   ]
  },
  {
   "cell_type": "code",
   "execution_count": null,
   "id": "55b52002",
   "metadata": {},
   "outputs": [],
   "source": [
    "font_scale = 3\n",
    "font = cv.FONT_HERSHEY_PLAIN\n",
    "for ClassInd, conf, boxes in zip(ClassIndex.flatten(), confidence.flatten, bbox):\n",
    "    cv.rectangle(img,boxes,(255,0,0), 2)\n",
    "    cv.putText(img,ClassLabels[ClassInd-1],(boxes[0]+10,boxes[1]+40), font, fontScale=font_scale,color=(0, 255, 0), thickness=3 )\n",
    "    "
   ]
  },
  {
   "cell_type": "code",
   "execution_count": null,
   "id": "9abae53b",
   "metadata": {},
   "outputs": [],
   "source": [
    "plt.imshow(cv.cvtColor(img, cv.COLOR_BGR2RBG))"
   ]
  }
 ],
 "metadata": {
  "kernelspec": {
   "display_name": "Python 3 (ipykernel)",
   "language": "python",
   "name": "python3"
  },
  "language_info": {
   "codemirror_mode": {
    "name": "ipython",
    "version": 3
   },
   "file_extension": ".py",
   "mimetype": "text/x-python",
   "name": "python",
   "nbconvert_exporter": "python",
   "pygments_lexer": "ipython3",
   "version": "3.9.7"
  }
 },
 "nbformat": 4,
 "nbformat_minor": 5
}
